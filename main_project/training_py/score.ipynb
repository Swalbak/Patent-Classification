{
 "cells": [
  {
   "attachments": {},
   "cell_type": "markdown",
   "metadata": {},
   "source": [
    "### predictions name - data name\n",
    "* BCEpredictions - forBCELOSS_4sliced_notSample(x)\n",
    "2. BCEpredictions_4sliced_notSample - BCELOSS_4sliced_notSample\n",
    "3. BCEpredictions_4sliced_200000Sample - BCELOSS_4sliced_200000Sample\n",
    "4. BCEpredictions_4sliced_20000Sample - BCELOSS_4sliced_20000Sample\n",
    "\n",
    "* BCEpredictions_3sliced - forBCELOSS_3sliced_notSample(x)"
   ]
  },
  {
   "cell_type": "code",
   "execution_count": 3,
   "metadata": {},
   "outputs": [],
   "source": [
    "sample_num = 20000\n",
    "sliced_num = 4\n",
    "epoch_num = 50"
   ]
  },
  {
   "cell_type": "code",
   "execution_count": 4,
   "metadata": {},
   "outputs": [],
   "source": [
    "data_path = f\"/home/aailab/yjh/csv_data/patent_data/edited_data/BCELOSS/{sliced_num}sliced/{sample_num}Sample/\"\n",
    "model_path = f\"/home/aailab/yjh/result/multi_label_project/BCELOSS/{sliced_num}sliced/{epoch_num}epoch/\"\n",
    "pretrained_model_path = f\"/home/aailab/yjh/result/multi_label_project/BCELOSS/bert_pretrained/{sliced_num}sliced/\""
   ]
  },
  {
   "cell_type": "code",
   "execution_count": 5,
   "metadata": {},
   "outputs": [],
   "source": [
    "import pandas as pd\n",
    "import numpy as np\n",
    "import pickle\n",
    "import torch"
   ]
  },
  {
   "cell_type": "code",
   "execution_count": 6,
   "metadata": {},
   "outputs": [
    {
     "data": {
      "text/plain": [
       "637"
      ]
     },
     "execution_count": 6,
     "metadata": {},
     "output_type": "execute_result"
    }
   ],
   "source": [
    "with open(data_path + \"labels.pickle\", \"rb\") as rf:\n",
    "    labels = pickle.load(rf)\n",
    "\n",
    "len(labels)"
   ]
  },
  {
   "cell_type": "code",
   "execution_count": 7,
   "metadata": {},
   "outputs": [
    {
     "data": {
      "text/plain": [
       "(2000, 637)"
      ]
     },
     "execution_count": 7,
     "metadata": {},
     "output_type": "execute_result"
    }
   ],
   "source": [
    "pred_path = model_path + f\"{sample_num}SamplePredictions.pickle\"\n",
    "\n",
    "with open(pred_path, \"rb\") as rf:\n",
    "    predictions = pickle.load(rf)\n",
    "\n",
    "flatten_predictions = np.stack([torch.sigmoid(torch.Tensor(p)) for batch in predictions for p in batch['outputs']])\n",
    "flatten_predictions.shape"
   ]
  },
  {
   "cell_type": "code",
   "execution_count": 8,
   "metadata": {},
   "outputs": [
    {
     "ename": "FileNotFoundError",
     "evalue": "[Errno 2] No such file or directory: '/home/aailab/yjh/result/multi_label_project/BCELOSS/bert_pretrained/4sliced/20000SamplePredictions.pickle'",
     "output_type": "error",
     "traceback": [
      "\u001b[0;31m---------------------------------------------------------------------------\u001b[0m",
      "\u001b[0;31mFileNotFoundError\u001b[0m                         Traceback (most recent call last)",
      "\u001b[1;32m/home/aailab/yjh/src/multi_label_project/python_file/score.ipynb Cell 7\u001b[0m in \u001b[0;36m<module>\u001b[0;34m\u001b[0m\n\u001b[1;32m      <a href='vscode-notebook-cell://ssh-remote%2Ba5000/home/aailab/yjh/src/multi_label_project/python_file/score.ipynb#W6sdnNjb2RlLXJlbW90ZQ%3D%3D?line=0'>1</a>\u001b[0m pretrained_pred_path \u001b[39m=\u001b[39m pretrained_model_path \u001b[39m+\u001b[39m \u001b[39mf\u001b[39m\u001b[39m\"\u001b[39m\u001b[39m{\u001b[39;00msample_num\u001b[39m}\u001b[39;00m\u001b[39mSamplePredictions.pickle\u001b[39m\u001b[39m\"\u001b[39m\n\u001b[0;32m----> <a href='vscode-notebook-cell://ssh-remote%2Ba5000/home/aailab/yjh/src/multi_label_project/python_file/score.ipynb#W6sdnNjb2RlLXJlbW90ZQ%3D%3D?line=2'>3</a>\u001b[0m \u001b[39mwith\u001b[39;00m \u001b[39mopen\u001b[39;49m(pretrained_pred_path, \u001b[39m\"\u001b[39;49m\u001b[39mrb\u001b[39;49m\u001b[39m\"\u001b[39;49m) \u001b[39mas\u001b[39;00m rf:\n\u001b[1;32m      <a href='vscode-notebook-cell://ssh-remote%2Ba5000/home/aailab/yjh/src/multi_label_project/python_file/score.ipynb#W6sdnNjb2RlLXJlbW90ZQ%3D%3D?line=3'>4</a>\u001b[0m     pretrained_predictions \u001b[39m=\u001b[39m pickle\u001b[39m.\u001b[39mload(rf)\n\u001b[1;32m      <a href='vscode-notebook-cell://ssh-remote%2Ba5000/home/aailab/yjh/src/multi_label_project/python_file/score.ipynb#W6sdnNjb2RlLXJlbW90ZQ%3D%3D?line=5'>6</a>\u001b[0m pretrained_flatten_predictions \u001b[39m=\u001b[39m np\u001b[39m.\u001b[39mstack([torch\u001b[39m.\u001b[39msigmoid(torch\u001b[39m.\u001b[39mTensor(p)) \u001b[39mfor\u001b[39;00m batch \u001b[39min\u001b[39;00m pretrained_predictions \u001b[39mfor\u001b[39;00m p \u001b[39min\u001b[39;00m batch[\u001b[39m'\u001b[39m\u001b[39moutputs\u001b[39m\u001b[39m'\u001b[39m]])\n",
      "\u001b[0;31mFileNotFoundError\u001b[0m: [Errno 2] No such file or directory: '/home/aailab/yjh/result/multi_label_project/BCELOSS/bert_pretrained/4sliced/20000SamplePredictions.pickle'"
     ]
    }
   ],
   "source": [
    "pretrained_pred_path = pretrained_model_path + f\"{sample_num}SamplePredictions.pickle\"\n",
    "\n",
    "with open(pretrained_pred_path, \"rb\") as rf:\n",
    "    pretrained_predictions = pickle.load(rf)\n",
    "\n",
    "pretrained_flatten_predictions = np.stack([torch.sigmoid(torch.Tensor(p)) for batch in pretrained_predictions for p in batch['outputs']])\n",
    "pretrained_flatten_predictions.shape"
   ]
  },
  {
   "cell_type": "code",
   "execution_count": null,
   "metadata": {},
   "outputs": [
    {
     "name": "stdout",
     "output_type": "stream",
     "text": [
      "<class 'pandas.core.frame.DataFrame'>\n",
      "Index: 40000 entries, KR1646235B1 to KR1751446B1\n",
      "Columns: 639 entries, Abstract (Original Language) to H05K\n",
      "dtypes: int64(637), object(2)\n",
      "memory usage: 195.3+ MB\n"
     ]
    }
   ],
   "source": [
    "import torch\n",
    "val_path = data_path + 'val_data.csv'\n",
    "val_data = pd.read_csv(val_path, index_col=0)\n",
    "val_data.info()"
   ]
  },
  {
   "cell_type": "code",
   "execution_count": null,
   "metadata": {},
   "outputs": [
    {
     "data": {
      "text/plain": [
       "(40000, 637)"
      ]
     },
     "execution_count": 14,
     "metadata": {},
     "output_type": "execute_result"
    }
   ],
   "source": [
    "true_label = np.array(val_data[labels])\n",
    "true_label.shape"
   ]
  },
  {
   "cell_type": "code",
   "execution_count": null,
   "metadata": {},
   "outputs": [
    {
     "data": {
      "text/plain": [
       "(40000, 637)"
      ]
     },
     "execution_count": 15,
     "metadata": {},
     "output_type": "execute_result"
    }
   ],
   "source": [
    "binary_predictions = (flatten_predictions >= 0.5).astype(int)\n",
    "binary_predictions.shape"
   ]
  },
  {
   "cell_type": "code",
   "execution_count": null,
   "metadata": {},
   "outputs": [
    {
     "data": {
      "text/plain": [
       "(40000, 637)"
      ]
     },
     "execution_count": 16,
     "metadata": {},
     "output_type": "execute_result"
    }
   ],
   "source": [
    "pretrained_binary_predictions = (pretrained_flatten_predictions >= 0.5).astype(int)\n",
    "pretrained_binary_predictions.shape"
   ]
  },
  {
   "cell_type": "code",
   "execution_count": null,
   "metadata": {},
   "outputs": [
    {
     "data": {
      "text/plain": [
       "0.6"
      ]
     },
     "execution_count": 17,
     "metadata": {},
     "output_type": "execute_result"
    }
   ],
   "source": [
    "a = np.array([[0, 1, 0, 0, 0], [0, 1, 0, 0, 0], [0, 1, 0, 0, 0]])\n",
    "b = np.array([[0, 0, 1, 0, 0], [0, 0, 1, 0, 0], [0, 0, 1, 0, 0]])\n",
    "(a == b).mean()"
   ]
  },
  {
   "cell_type": "code",
   "execution_count": null,
   "metadata": {},
   "outputs": [
    {
     "data": {
      "text/plain": [
       "0.9982372448979592"
      ]
     },
     "execution_count": 18,
     "metadata": {},
     "output_type": "execute_result"
    }
   ],
   "source": [
    "(binary_predictions == true_label).mean()"
   ]
  },
  {
   "cell_type": "code",
   "execution_count": null,
   "metadata": {},
   "outputs": [
    {
     "data": {
      "text/plain": [
       "0.9982026687598116"
      ]
     },
     "execution_count": 19,
     "metadata": {},
     "output_type": "execute_result"
    }
   ],
   "source": [
    "(pretrained_binary_predictions == true_label).mean()"
   ]
  },
  {
   "cell_type": "code",
   "execution_count": null,
   "metadata": {},
   "outputs": [
    {
     "data": {
      "text/plain": [
       "(2, 6, 0, 2)"
      ]
     },
     "execution_count": 20,
     "metadata": {},
     "output_type": "execute_result"
    }
   ],
   "source": [
    "a = np.array([[0, 1, 1, 0, 0], [0, 1, 1, 0, 0]])\n",
    "b = np.array([[0, 0, 1, 0, 0], [0, 0, 1, 0, 0]])\n",
    "\n",
    "t_p = (b[a == 1] == 1).sum()\n",
    "f_p = (b[a == 0] == 1).sum()\n",
    "t_n = (b[a == 0] == 0).sum()\n",
    "f_n = (b[a == 1] == 0).sum()\n",
    "t_p, t_n, f_p, f_n"
   ]
  },
  {
   "attachments": {},
   "cell_type": "markdown",
   "metadata": {},
   "source": [
    "# 평가"
   ]
  },
  {
   "cell_type": "code",
   "execution_count": null,
   "metadata": {},
   "outputs": [],
   "source": [
    "whole_data_num = len(true_label) * len(true_label[0])\n",
    "\n",
    "true_positive = (binary_predictions[true_label == 1] == 1).sum()\n",
    "true_negative = (binary_predictions[true_label == 0] == 0).sum()\n",
    "false_positive = (binary_predictions[true_label == 0] == 1).sum()\n",
    "false_negative = (binary_predictions[true_label == 1] == 0).sum()"
   ]
  },
  {
   "cell_type": "code",
   "execution_count": null,
   "metadata": {},
   "outputs": [],
   "source": [
    "pretrained_true_positive = (pretrained_binary_predictions[true_label == 1] == 1).sum()\n",
    "pretrained_true_negative = (pretrained_binary_predictions[true_label == 0] == 0).sum()\n",
    "pretrained_false_positive = (pretrained_binary_predictions[true_label == 0] == 1).sum()\n",
    "pretrained_false_negative = (pretrained_binary_predictions[true_label == 1] == 0).sum()"
   ]
  },
  {
   "cell_type": "code",
   "execution_count": null,
   "metadata": {},
   "outputs": [
    {
     "data": {
      "text/plain": [
       "(25480000, 0.9982372448979592)"
      ]
     },
     "execution_count": 23,
     "metadata": {},
     "output_type": "execute_result"
    }
   ],
   "source": [
    "# accuracy\n",
    "whole_data_num, (true_positive + true_negative) / (true_positive + true_negative + false_positive + false_negative)"
   ]
  },
  {
   "cell_type": "code",
   "execution_count": null,
   "metadata": {},
   "outputs": [
    {
     "data": {
      "text/plain": [
       "0.9982026687598116"
      ]
     },
     "execution_count": 24,
     "metadata": {},
     "output_type": "execute_result"
    }
   ],
   "source": [
    "(pretrained_true_positive + pretrained_true_negative) / (pretrained_true_positive + pretrained_true_negative + pretrained_false_positive + pretrained_false_negative)"
   ]
  },
  {
   "cell_type": "code",
   "execution_count": null,
   "metadata": {},
   "outputs": [
    {
     "data": {
      "text/plain": [
       "63157"
      ]
     },
     "execution_count": 25,
     "metadata": {},
     "output_type": "execute_result"
    }
   ],
   "source": [
    "binary_predictions.sum()"
   ]
  },
  {
   "cell_type": "code",
   "execution_count": null,
   "metadata": {},
   "outputs": [
    {
     "data": {
      "text/plain": [
       "(0.39715, 0.391175)"
      ]
     },
     "execution_count": 26,
     "metadata": {},
     "output_type": "execute_result"
    }
   ],
   "source": [
    "from sklearn.metrics import accuracy_score\n",
    "\n",
    "accuracy_score(true_label, binary_predictions), accuracy_score(true_label, pretrained_binary_predictions)"
   ]
  },
  {
   "cell_type": "code",
   "execution_count": null,
   "metadata": {},
   "outputs": [
    {
     "data": {
      "text/plain": [
       "(0.6330134748877093, 0.6402613311555737)"
      ]
     },
     "execution_count": 27,
     "metadata": {},
     "output_type": "execute_result"
    }
   ],
   "source": [
    "# ReCall\n",
    "recall = true_positive / (true_positive + false_negative)\n",
    "pretrained_recall = pretrained_true_positive / (pretrained_true_positive + pretrained_false_negative)\n",
    "recall, pretrained_recall"
   ]
  },
  {
   "cell_type": "code",
   "execution_count": null,
   "metadata": {},
   "outputs": [
    {
     "data": {
      "text/plain": [
       "(0.6872872365691848, 0.6751137901340878)"
      ]
     },
     "execution_count": 28,
     "metadata": {},
     "output_type": "execute_result"
    }
   ],
   "source": [
    "precision = true_positive / (true_positive + false_positive)\n",
    "pretrained_precision = pretrained_true_positive / (pretrained_true_positive + pretrained_false_positive)\n",
    "precision, pretrained_precision"
   ]
  },
  {
   "cell_type": "code",
   "execution_count": null,
   "metadata": {},
   "outputs": [
    {
     "data": {
      "text/plain": [
       "(0.6590348366722589, 0.6572258315619293)"
      ]
     },
     "execution_count": 29,
     "metadata": {},
     "output_type": "execute_result"
    }
   ],
   "source": [
    "f1 = 2 * (precision * recall) / (precision + recall)\n",
    "pretrained_f1 = 2 * (pretrained_precision * pretrained_recall) / (pretrained_precision + pretrained_recall)\n",
    "f1, pretrained_f1"
   ]
  },
  {
   "cell_type": "code",
   "execution_count": null,
   "metadata": {},
   "outputs": [
    {
     "data": {
      "text/plain": [
       "((0.6590348366722589, 0.6872872365691848, 0.6330134748877093),\n",
       " (0.6572258315619293, 0.6751137901340878, 0.6402613311555737))"
      ]
     },
     "execution_count": 30,
     "metadata": {},
     "output_type": "execute_result"
    }
   ],
   "source": [
    "from sklearn.metrics import f1_score, precision_score, recall_score\n",
    "f1 = f1_score(true_label, binary_predictions, average='micro')\n",
    "precision = precision_score(true_label, binary_predictions, average='micro')\n",
    "recall = recall_score(true_label, binary_predictions, average='micro')\n",
    "\n",
    "pretrained_f1 = f1_score(true_label, pretrained_binary_predictions, average='micro')\n",
    "pretrained_precision = precision_score(true_label, pretrained_binary_predictions, average='micro')\n",
    "pretrained_recall = recall_score(true_label, pretrained_binary_predictions, average='micro')\n",
    "\n",
    "(f1, precision, recall), (pretrained_f1, pretrained_precision, pretrained_recall)"
   ]
  },
  {
   "cell_type": "code",
   "execution_count": null,
   "metadata": {},
   "outputs": [
    {
     "data": {
      "text/plain": [
       "402.4390487198569"
      ]
     },
     "execution_count": 31,
     "metadata": {},
     "output_type": "execute_result"
    }
   ],
   "source": [
    "zero_count = (binary_predictions == 0).sum()\n",
    "one_count = (binary_predictions == 1).sum()\n",
    "zero_count / one_count"
   ]
  },
  {
   "cell_type": "code",
   "execution_count": null,
   "metadata": {},
   "outputs": [],
   "source": []
  }
 ],
 "metadata": {
  "kernelspec": {
   "display_name": "Python 3",
   "language": "python",
   "name": "python3"
  },
  "language_info": {
   "codemirror_mode": {
    "name": "ipython",
    "version": 3
   },
   "file_extension": ".py",
   "mimetype": "text/x-python",
   "name": "python",
   "nbconvert_exporter": "python",
   "pygments_lexer": "ipython3",
   "version": "3.8.10"
  },
  "orig_nbformat": 4,
  "vscode": {
   "interpreter": {
    "hash": "916dbcbb3f70747c44a77c7bcd40155683ae19c65e1c03b4aa3499c5328201f1"
   }
  }
 },
 "nbformat": 4,
 "nbformat_minor": 2
}
